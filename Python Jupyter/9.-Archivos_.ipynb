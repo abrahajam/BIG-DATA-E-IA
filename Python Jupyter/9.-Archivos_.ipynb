{
 "cells": [
  {
   "cell_type": "markdown",
   "id": "3f723dd1-7f92-4ab8-923e-98de3a1db9fb",
   "metadata": {},
   "source": [
    "# 9.- Archivos"
   ]
  },
  {
   "cell_type": "markdown",
   "id": "d43b7e5b-7609-4259-9bdb-5cbb52f30d79",
   "metadata": {},
   "source": [
    "## 9.2.-Archivos TXT"
   ]
  },
  {
   "cell_type": "markdown",
   "id": "2aae30a5-95f2-4e6f-8fe5-b40c43766518",
   "metadata": {},
   "source": [
    "Lo primero que haremos será escribir a un archivo de texto con información extraordinariamente importante. \n",
    "\n",
    "A continuación los 4 influencers con más seguidores en tiktok del mundo (Febrero 2021)\n",
    "\n",
    "@charlidamelio D’Amelio 108.1\n",
    "@addisonre Addison 76.4\n",
    "@zachking Zach 56.6\n",
    "@bellapoarch Bella 56.3"
   ]
  },
  {
   "cell_type": "code",
   "execution_count": 2,
   "id": "3b645420-c1cd-4977-b392-37fde45251c2",
   "metadata": {},
   "outputs": [],
   "source": [
    "with open(\"seguidores.txt\", mode = \"w\") as seguidores: #write\n",
    "    seguidores.write(\"@charlidamelio D’Amelio 108.1\\n\")\n",
    "    seguidores.write(\"@addisonre Addison 76.4\\n\")\n",
    "    seguidores.write(\"@zachking Zach 56.6\\n\")\n",
    "    seguidores.write(\"@bellapoarch Bella 56.3\\n\")"
   ]
  },
  {
   "cell_type": "markdown",
   "id": "280440b0-730b-42a1-bf2d-14e57a25f019",
   "metadata": {},
   "source": [
    "Ahora revisaremos los contenidos en python con el siguiente código:"
   ]
  },
  {
   "cell_type": "code",
   "execution_count": 6,
   "id": "a573ef82-eb54-4fcb-85b6-b398a6eb8576",
   "metadata": {},
   "outputs": [
    {
     "name": "stdout",
     "output_type": "stream",
     "text": [
      "Handle              Nombre    num_seg   \n",
      "@charlidamelio      D’Amelio  108.1\n",
      "    \n",
      "@addisonre          Addison   76.4\n",
      "     \n",
      "@zachking           Zach      56.6\n",
      "     \n",
      "@bellapoarch        Bella     56.3\n",
      "     \n"
     ]
    }
   ],
   "source": [
    "with open (\"seguidores.txt\",mode=\"r\") as seguidores: #r=read\n",
    "    print(f'{\"Handle\":<20}{\"Nombre\":<10}{\"num_seg\":<10}')\n",
    "    for record in seguidores:\n",
    "        handle, nombre, num_seg = record.rsplit(\" \",2) #record cada registro (cada linea) //separada por espacios\n",
    "        print(f'{handle:<20}{nombre:<10}{num_seg:<10}')"
   ]
  },
  {
   "cell_type": "markdown",
   "id": "01d17b73-6e87-4f8a-a923-6501929e7e3a",
   "metadata": {},
   "source": [
    "Que pasa si queremos modificar el carhivo desde python? Es un problema"
   ]
  },
  {
   "cell_type": "code",
   "execution_count": 11,
   "id": "347ba2e9-2241-403d-b485-c5e6fe88b03c",
   "metadata": {},
   "outputs": [],
   "source": [
    "seguidores = open(\"seguidores.txt\",\"r\")\n",
    "temporal = open(\"temporal.txt\",\"w\")\n",
    "\n",
    "with seguidores, temporal:\n",
    "    for record in seguidores:\n",
    "        handle,nombre,num_seg = record.split()\n",
    "        if handle !=\"@charliedamelio\":\n",
    "            temporal.write(record) \n",
    "        else:\n",
    "            new_name = \" \".join([handle,\"Carlos\",num_seg])\n",
    "            temporal.write(new_name + \"\\n\")"
   ]
  },
  {
   "cell_type": "code",
   "execution_count": 12,
   "id": "e2ad0d55",
   "metadata": {},
   "outputs": [
    {
     "name": "stdout",
     "output_type": "stream",
     "text": [
      "\u001b[31mSignature:\u001b[39m\n",
      "open(\n",
      "    file,\n",
      "    mode=\u001b[33m'r'\u001b[39m,\n",
      "    buffering=-\u001b[32m1\u001b[39m,\n",
      "    encoding=\u001b[38;5;28;01mNone\u001b[39;00m,\n",
      "    errors=\u001b[38;5;28;01mNone\u001b[39;00m,\n",
      "    newline=\u001b[38;5;28;01mNone\u001b[39;00m,\n",
      "    closefd=\u001b[38;5;28;01mTrue\u001b[39;00m,\n",
      "    opener=\u001b[38;5;28;01mNone\u001b[39;00m,\n",
      ")\n",
      "\u001b[31mDocstring:\u001b[39m\n",
      "Open file and return a stream.  Raise OSError upon failure.\n",
      "\n",
      "file is either a text or byte string giving the name (and the path\n",
      "if the file isn't in the current working directory) of the file to\n",
      "be opened or an integer file descriptor of the file to be\n",
      "wrapped. (If a file descriptor is given, it is closed when the\n",
      "returned I/O object is closed, unless closefd is set to False.)\n",
      "\n",
      "mode is an optional string that specifies the mode in which the file\n",
      "is opened. It defaults to 'r' which means open for reading in text\n",
      "mode.  Other common values are 'w' for writing (truncating the file if\n",
      "it already exists), 'x' for creating and writing to a new file, and\n",
      "'a' for appending (which on some Unix systems, means that all writes\n",
      "append to the end of the file regardless of the current seek position).\n",
      "In text mode, if encoding is not specified the encoding used is platform\n",
      "dependent: locale.getencoding() is called to get the current locale encoding.\n",
      "(For reading and writing raw bytes use binary mode and leave encoding\n",
      "unspecified.) The available modes are:\n",
      "\n",
      "========= ===============================================================\n",
      "Character Meaning\n",
      "--------- ---------------------------------------------------------------\n",
      "'r'       open for reading (default)\n",
      "'w'       open for writing, truncating the file first\n",
      "'x'       create a new file and open it for writing\n",
      "'a'       open for writing, appending to the end of the file if it exists\n",
      "'b'       binary mode\n",
      "'t'       text mode (default)\n",
      "'+'       open a disk file for updating (reading and writing)\n",
      "========= ===============================================================\n",
      "\n",
      "The default mode is 'rt' (open for reading text). For binary random\n",
      "access, the mode 'w+b' opens and truncates the file to 0 bytes, while\n",
      "'r+b' opens the file without truncation. The 'x' mode implies 'w' and\n",
      "raises an `FileExistsError` if the file already exists.\n",
      "\n",
      "Python distinguishes between files opened in binary and text modes,\n",
      "even when the underlying operating system doesn't. Files opened in\n",
      "binary mode (appending 'b' to the mode argument) return contents as\n",
      "bytes objects without any decoding. In text mode (the default, or when\n",
      "'t' is appended to the mode argument), the contents of the file are\n",
      "returned as strings, the bytes having been first decoded using a\n",
      "platform-dependent encoding or using the specified encoding if given.\n",
      "\n",
      "buffering is an optional integer used to set the buffering policy.\n",
      "Pass 0 to switch buffering off (only allowed in binary mode), 1 to select\n",
      "line buffering (only usable in text mode), and an integer > 1 to indicate\n",
      "the size of a fixed-size chunk buffer.  When no buffering argument is\n",
      "given, the default buffering policy works as follows:\n",
      "\n",
      "* Binary files are buffered in fixed-size chunks; the size of the buffer\n",
      " is max(min(blocksize, 8 MiB), DEFAULT_BUFFER_SIZE)\n",
      " when the device block size is available.\n",
      " On most systems, the buffer will typically be 128 kilobytes long.\n",
      "\n",
      "* \"Interactive\" text files (files for which isatty() returns True)\n",
      "  use line buffering.  Other text files use the policy described above\n",
      "  for binary files.\n",
      "\n",
      "encoding is the name of the encoding used to decode or encode the\n",
      "file. This should only be used in text mode. The default encoding is\n",
      "platform dependent, but any encoding supported by Python can be\n",
      "passed.  See the codecs module for the list of supported encodings.\n",
      "\n",
      "errors is an optional string that specifies how encoding errors are to\n",
      "be handled---this argument should not be used in binary mode. Pass\n",
      "'strict' to raise a ValueError exception if there is an encoding error\n",
      "(the default of None has the same effect), or pass 'ignore' to ignore\n",
      "errors. (Note that ignoring encoding errors can lead to data loss.)\n",
      "See the documentation for codecs.register or run 'help(codecs.Codec)'\n",
      "for a list of the permitted encoding error strings.\n",
      "\n",
      "newline controls how universal newlines works (it only applies to text\n",
      "mode). It can be None, '', '\\n', '\\r', and '\\r\\n'.  It works as\n",
      "follows:\n",
      "\n",
      "* On input, if newline is None, universal newlines mode is\n",
      "  enabled. Lines in the input can end in '\\n', '\\r', or '\\r\\n', and\n",
      "  these are translated into '\\n' before being returned to the\n",
      "  caller. If it is '', universal newline mode is enabled, but line\n",
      "  endings are returned to the caller untranslated. If it has any of\n",
      "  the other legal values, input lines are only terminated by the given\n",
      "  string, and the line ending is returned to the caller untranslated.\n",
      "\n",
      "* On output, if newline is None, any '\\n' characters written are\n",
      "  translated to the system default line separator, os.linesep. If\n",
      "  newline is '' or '\\n', no translation takes place. If newline is any\n",
      "  of the other legal values, any '\\n' characters written are translated\n",
      "  to the given string.\n",
      "\n",
      "If closefd is False, the underlying file descriptor will be kept open\n",
      "when the file is closed. This does not work when a file name is given\n",
      "and must be True in that case.\n",
      "\n",
      "A custom opener can be used by passing a callable as *opener*. The\n",
      "underlying file descriptor for the file object is then obtained by\n",
      "calling *opener* with (*file*, *flags*). *opener* must return an open\n",
      "file descriptor (passing os.open as *opener* results in functionality\n",
      "similar to passing None).\n",
      "\n",
      "open() returns a file object whose type depends on the mode, and\n",
      "through which the standard file operations such as reading and writing\n",
      "are performed. When open() is used to open a file in a text mode ('w',\n",
      "'r', 'wt', 'rt', etc.), it returns a TextIOWrapper. When used to open\n",
      "a file in a binary mode, the returned class varies: in read binary\n",
      "mode, it returns a BufferedReader; in write binary and append binary\n",
      "modes, it returns a BufferedWriter, and in read/write mode, it returns\n",
      "a BufferedRandom.\n",
      "\n",
      "It is also possible to use a string or bytearray as a file for both\n",
      "reading and writing. For strings StringIO can be used like a file\n",
      "opened in a text mode, and for bytes a BytesIO can be used like a file\n",
      "opened in a binary mode.\n",
      "\u001b[31mType:\u001b[39m      function"
     ]
    }
   ],
   "source": [
    "open?"
   ]
  },
  {
   "cell_type": "markdown",
   "id": "9e9fd794-614b-4af9-8e19-ecf187e7096e",
   "metadata": {},
   "source": [
    "## 9.3.- Archivos JSON"
   ]
  },
  {
   "cell_type": "markdown",
   "id": "b2f0e150-64e6-4a0c-bf9a-01b14b0474e5",
   "metadata": {},
   "source": [
    "Consideremos el siguiente diccionario que habla de tiktok\n",
    "\n",
    "seguidores_dicc={'seguidores\\n':[\n",
    " {'handle':'@charlidamelio', 'name':'Charlie', 'num_seg':108.1},\n",
    " {'handle':'@addisonre', 'name':'Addison', 'num_seg':76.4},\n",
    " {'handle':'@zachking', 'name':'Zach', 'num_seg':56.6},\n",
    " {'handle':'@bellapoarch', 'name':'Bella', 'num_seg':56.3}]}\n"
   ]
  },
  {
   "cell_type": "code",
   "execution_count": 17,
   "id": "03037689-e74d-4a37-a700-e7e8bb4548a4",
   "metadata": {},
   "outputs": [],
   "source": [
    "import json\n",
    "seguidores_dicc={'seguidores\\n':[\n",
    " {'handle':'@charlidamelio', 'name':'Charlie', 'num_seg':108.1},\n",
    " {'handle':'@addisonre', 'name':'Addison', 'num_seg':76.4},\n",
    " {'handle':'@zachking', 'name':'Zach', 'num_seg':56.6},\n",
    " {'handle':'@bellapoarch', 'name':'Bella', 'num_seg':56.3}]}"
   ]
  },
  {
   "cell_type": "code",
   "execution_count": 18,
   "id": "4cc74381-4415-4e2d-a6e9-22ab5cbe564a",
   "metadata": {},
   "outputs": [
    {
     "data": {
      "text/plain": [
       "{'seguidores\\n': [{'handle': '@charlidamelio',\n",
       "   'name': 'Charlie',\n",
       "   'num_seg': 108.1},\n",
       "  {'handle': '@addisonre', 'name': 'Addison', 'num_seg': 76.4},\n",
       "  {'handle': '@zachking', 'name': 'Zach', 'num_seg': 56.6},\n",
       "  {'handle': '@bellapoarch', 'name': 'Bella', 'num_seg': 56.3}]}"
      ]
     },
     "execution_count": 18,
     "metadata": {},
     "output_type": "execute_result"
    }
   ],
   "source": [
    "seguidores_dicc"
   ]
  },
  {
   "cell_type": "markdown",
   "id": "ad19770f-e6b3-45cd-a0f2-cabdac51d79b",
   "metadata": {},
   "source": [
    "Para escribir este objeto con el formato JSON"
   ]
  },
  {
   "cell_type": "code",
   "execution_count": 22,
   "id": "47e2a67a-3f55-418d-8808-f496fcbaa2b3",
   "metadata": {},
   "outputs": [],
   "source": [
    "with open(\"seguidores.json\",\"w\", encoding=\"utf-8\") as f:\n",
    "    json.dump(seguidores_dicc, f, ensure_ascii=False, indent= 2)"
   ]
  },
  {
   "cell_type": "markdown",
   "id": "024fa392-219c-4b12-ae18-a42ee73dcfe7",
   "metadata": {},
   "source": [
    "Ahora recuperemos los datos del archivo JSON con la función load"
   ]
  },
  {
   "cell_type": "code",
   "execution_count": 23,
   "id": "c7a73524-4bd7-49d2-802d-c9ae25d47984",
   "metadata": {},
   "outputs": [
    {
     "name": "stdout",
     "output_type": "stream",
     "text": [
      "{'seguidores\\n': [{'handle': '@charlidamelio', 'name': 'Charlie', 'num_seg': 108.1}, {'handle': '@addisonre', 'name': 'Addison', 'num_seg': 76.4}, {'handle': '@zachking', 'name': 'Zach', 'num_seg': 56.6}, {'handle': '@bellapoarch', 'name': 'Bella', 'num_seg': 56.3}]}\n"
     ]
    }
   ],
   "source": [
    "with open(\"seguidores.json\",\"r\",encoding=\"utf-8\")as f:\n",
    "    seguidores_dicc=json.load(f)\n",
    "    print(seguidores_dicc)"
   ]
  },
  {
   "cell_type": "code",
   "execution_count": null,
   "id": "ed9d27d0-34f0-463d-95d8-8cf689b4a5bf",
   "metadata": {},
   "outputs": [],
   "source": []
  },
  {
   "cell_type": "markdown",
   "id": "9ca654fe-7bc1-49c0-977d-6ad05e6bcca6",
   "metadata": {},
   "source": [
    "Ahora accede al diccionario asociada a la llave seguidores"
   ]
  },
  {
   "cell_type": "code",
   "execution_count": 25,
   "id": "265f88a2-fc60-468a-9989-443bafae1ea4",
   "metadata": {},
   "outputs": [
    {
     "name": "stdout",
     "output_type": "stream",
     "text": [
      "[{'handle': '@charlidamelio', 'name': 'Charlie', 'num_seg': 108.1}, {'handle': '@addisonre', 'name': 'Addison', 'num_seg': 76.4}, {'handle': '@zachking', 'name': 'Zach', 'num_seg': 56.6}, {'handle': '@bellapoarch', 'name': 'Bella', 'num_seg': 56.3}]\n"
     ]
    }
   ],
   "source": [
    "seguidores = seguidores_dicc[\"seguidores\\n\"]\n",
    "print(seguidores)"
   ]
  },
  {
   "cell_type": "markdown",
   "id": "d1401405-df57-4c3d-9dee-dd2ec443becb",
   "metadata": {},
   "source": [
    "Y obten registros indivudales de 0 y 3"
   ]
  },
  {
   "cell_type": "code",
   "execution_count": 26,
   "id": "89b6cefd-6244-452a-864f-811ef39b4def",
   "metadata": {},
   "outputs": [
    {
     "name": "stdout",
     "output_type": "stream",
     "text": [
      "{'handle': '@charlidamelio', 'name': 'Charlie', 'num_seg': 108.1}\n",
      "{'handle': '@bellapoarch', 'name': 'Bella', 'num_seg': 56.3}\n"
     ]
    }
   ],
   "source": [
    "print(seguidores[0])\n",
    "print(seguidores[3])"
   ]
  },
  {
   "cell_type": "markdown",
   "id": "e3e7b792-4db7-433e-ab92-a4fd8193306d",
   "metadata": {},
   "source": [
    "## 9.4.- Manipulación de Excepciones"
   ]
  },
  {
   "cell_type": "markdown",
   "id": "bba13d6b-9e2a-4c81-9810-3d20c568c47a",
   "metadata": {},
   "source": [
    "Una excepción es un error, como dividir entre 0"
   ]
  },
  {
   "cell_type": "code",
   "execution_count": 28,
   "id": "4a421606-3126-4ff3-8348-cfc8535d0ce9",
   "metadata": {},
   "outputs": [
    {
     "ename": "ZeroDivisionError",
     "evalue": "division by zero",
     "output_type": "error",
     "traceback": [
      "\u001b[31m---------------------------------------------------------------------------\u001b[39m",
      "\u001b[31mZeroDivisionError\u001b[39m                         Traceback (most recent call last)",
      "\u001b[36mCell\u001b[39m\u001b[36m \u001b[39m\u001b[32mIn[28]\u001b[39m\u001b[32m, line 1\u001b[39m\n\u001b[32m----> \u001b[39m\u001b[32m1\u001b[39m \u001b[32;43m1\u001b[39;49m\u001b[43m/\u001b[49m\u001b[32;43m0\u001b[39;49m\n",
      "\u001b[31mZeroDivisionError\u001b[39m: division by zero"
     ]
    }
   ],
   "source": [
    "1/0"
   ]
  },
  {
   "cell_type": "markdown",
   "id": "bf2a3d29-582b-41f9-a1c7-caefa291c04c",
   "metadata": {},
   "source": [
    "Y la excepción d etipo value error, que ocurre cuando intentas convertir una cadena en entero"
   ]
  },
  {
   "cell_type": "code",
   "execution_count": 29,
   "id": "f307efbc-744b-49f6-8668-a001dfffcf11",
   "metadata": {},
   "outputs": [
    {
     "ename": "ValueError",
     "evalue": "invalid literal for int() with base 10: '12.3'",
     "output_type": "error",
     "traceback": [
      "\u001b[31m---------------------------------------------------------------------------\u001b[39m",
      "\u001b[31mValueError\u001b[39m                                Traceback (most recent call last)",
      "\u001b[36mCell\u001b[39m\u001b[36m \u001b[39m\u001b[32mIn[29]\u001b[39m\u001b[32m, line 1\u001b[39m\n\u001b[32m----> \u001b[39m\u001b[32m1\u001b[39m \u001b[38;5;28;43mint\u001b[39;49m\u001b[43m(\u001b[49m\u001b[33;43m\"\u001b[39;49m\u001b[33;43m12.3\u001b[39;49m\u001b[33;43m\"\u001b[39;49m\u001b[43m)\u001b[49m\n",
      "\u001b[31mValueError\u001b[39m: invalid literal for int() with base 10: '12.3'"
     ]
    }
   ],
   "source": [
    "int(\"12.3\")"
   ]
  },
  {
   "cell_type": "markdown",
   "id": "2768f4e8-9601-4128-8f43-d07955f6d81d",
   "metadata": {},
   "source": [
    "Que pasa si quiero dar continuidad a la ejecución dle programa?"
   ]
  },
  {
   "cell_type": "markdown",
   "id": "2316123b-0545-4495-ad05-954857d1e1f6",
   "metadata": {},
   "source": [
    "Vamos a hacer un programa que divida por 0 - vamos a necesitar usar While, trye, except, except y else"
   ]
  },
  {
   "cell_type": "code",
   "execution_count": 2,
   "id": "9a5aaf89-dd98-41d9-ac2c-0ecc044423f7",
   "metadata": {},
   "outputs": [
    {
     "name": "stdout",
     "output_type": "stream",
     "text": [
      "12.0/3.0=4.0\n"
     ]
    }
   ],
   "source": [
    "while True:\n",
    "    try:\n",
    "        numerador = int(input(\"Ingresa el numerador\"))\n",
    "        denominador = int(input(\"Ingresa el denominador\"))\n",
    "        cociente = numerador/denominador\n",
    "    except ValueError:\n",
    "        print(\"Debes ingresar 2 números enteros\\n\")\n",
    "    except ZeroDivisionError:\n",
    "        print(\"No dividas entre 0 cazurro\\n\")\n",
    "    else:\n",
    "        print(f'{numerador:.1f}/{denominador:.1f}={cociente:.1f}')\n",
    "        break"
   ]
  },
  {
   "cell_type": "markdown",
   "id": "0cdf6156-1396-490e-97b5-c167ef49ed0f",
   "metadata": {},
   "source": [
    "## 9.5.- Archivos CSV"
   ]
  },
  {
   "cell_type": "markdown",
   "id": "85a3ebe3-34b3-422c-b548-0f96d6c95c05",
   "metadata": {},
   "source": [
    "Primero crearemos un archivo CSV con los seguidores de TikTok"
   ]
  },
  {
   "cell_type": "code",
   "execution_count": null,
   "id": "660d8b15-c380-4860-9714-ea7b920a6ce7",
   "metadata": {},
   "outputs": [],
   "source": [
    "import csv\n",
    "\n",
    "with open('seguidores.csv', mode=\"w\", newline='') as seguidores:\n",
    "    write = csv.writer(seguidores)\n",
    "    writer.writerow([\"@charlidamelio\",\"D’Amelio\", 108.1])\n",
    "    writer.writerow([\"@addisonre\",\"Addison\", 76.4])\n",
    "    writer.writerow([\"@zachking\",\" Zach\", 56.6])\n",
    "    writer.writerow([\"@bellapoarch\",\"Bella\", 56.3])\n",
    "\n",
    "#campos = ['handle', 'name', 'num_seg']\n",
    "#escritor = csv.DictWriter(archivo_csv, fieldnames=campos)\n",
    "#escritor.writeheader()\n",
    "#escritor.writerows(seguidores)\n",
    "    "
   ]
  },
  {
   "cell_type": "markdown",
   "id": "b2fc2084-25bd-40ca-9bf9-21ee576efa9c",
   "metadata": {},
   "source": [
    "Ahora leeremos nuestro mismo archivo"
   ]
  },
  {
   "cell_type": "code",
   "execution_count": null,
   "id": "8bd1e7ef-09ae-4b45-b59b-8fdb593eb3a0",
   "metadata": {},
   "outputs": [
    {
     "name": "stdout",
     "output_type": "stream",
     "text": [
      "{'handle': '@charlidamelio', 'name': 'Charlie', 'num_seg': '108.1'}\n",
      "{'handle': '@addisonre', 'name': 'Addison', 'num_seg': '76.4'}\n",
      "{'handle': '@zachking', 'name': 'Zach', 'num_seg': '56.6'}\n",
      "{'handle': '@bellapoarch', 'name': 'Bella', 'num_seg': '56.3'}\n"
     ]
    }
   ],
   "source": [
    "with open('seguidores.csv', 'r', encoding='utf-8') as archivo_csv:\n",
    "    lector = csv.DictReader(archivo_csv)\n",
    "    for fila in lector:\n",
    "        print(fila)"
   ]
  },
  {
   "cell_type": "markdown",
   "id": "14e192c6-1b56-47ea-8e8b-7afbb0e6ddc8",
   "metadata": {},
   "source": [
    "## 9.6.- Lectura de CSV con DataFrame de Pandas"
   ]
  },
  {
   "cell_type": "markdown",
   "id": "6cfe35de-8e30-4e9d-8bc5-9e9d2d013c62",
   "metadata": {},
   "source": [
    "Vamos a leer el archivo del gimnasio"
   ]
  },
  {
   "cell_type": "code",
   "execution_count": 5,
   "id": "b1e961ac-5542-4c45-ab76-3b500b99caf4",
   "metadata": {},
   "outputs": [
    {
     "name": "stdout",
     "output_type": "stream",
     "text": [
      "{'\\ufeffcodigo_user': 'usuario1', 'Género': 'M', 'Peso': '86.64', 'Cintura': '91.44', 'Pulso': '50', 'Lagartijas': '5', 'Sentadillas': '162', 'Saltos': '60'}\n",
      "{'\\ufeffcodigo_user': 'usuario2', 'Género': 'M', 'Peso': '85.73', 'Cintura': '93.98', 'Pulso': '52', 'Lagartijas': '2', 'Sentadillas': '110', 'Saltos': '60'}\n",
      "{'\\ufeffcodigo_user': 'usuario3', 'Género': 'M', 'Peso': '87.54', 'Cintura': '96.52', 'Pulso': '58', 'Lagartijas': '12', 'Sentadillas': '101', 'Saltos': '101'}\n",
      "{'\\ufeffcodigo_user': 'usuario4', 'Género': 'F', 'Peso': '73.48', 'Cintura': '88.90', 'Pulso': '62', 'Lagartijas': '12', 'Sentadillas': '105', 'Saltos': '37'}\n",
      "{'\\ufeffcodigo_user': 'usuario5', 'Género': 'M', 'Peso': '85.73', 'Cintura': '88.90', 'Pulso': '46', 'Lagartijas': '13', 'Sentadillas': '155', 'Saltos': '58'}\n",
      "{'\\ufeffcodigo_user': 'usuario6', 'Género': 'F', 'Peso': '82.55', 'Cintura': '91.44', 'Pulso': '56', 'Lagartijas': '4', 'Sentadillas': '101', 'Saltos': '42'}\n",
      "{'\\ufeffcodigo_user': 'usuario7', 'Género': 'M', 'Peso': '95.71', 'Cintura': '96.52', 'Pulso': '56', 'Lagartijas': '8', 'Sentadillas': '101', 'Saltos': '38'}\n",
      "{'\\ufeffcodigo_user': 'usuario8', 'Género': 'F', 'Peso': '75.75', 'Cintura': '86.36', 'Pulso': '60', 'Lagartijas': '6', 'Sentadillas': '125', 'Saltos': '40'}\n",
      "{'\\ufeffcodigo_user': 'usuario9', 'Género': 'F', 'Peso': '79.83', 'Cintura': '78.74', 'Pulso': '74', 'Lagartijas': '15', 'Sentadillas': '200', 'Saltos': '40'}\n",
      "{'\\ufeffcodigo_user': 'usuario10', 'Género': 'F', 'Peso': '69.85', 'Cintura': '83.82', 'Pulso': '56', 'Lagartijas': '17', 'Sentadillas': '251', 'Saltos': '250'}\n",
      "{'\\ufeffcodigo_user': 'usuario11', 'Género': 'M', 'Peso': '76.66', 'Cintura': '86.36', 'Pulso': '50', 'Lagartijas': '17', 'Sentadillas': '120', 'Saltos': '38'}\n",
      "{'\\ufeffcodigo_user': 'usuario12', 'Género': 'F', 'Peso': '75.30', 'Cintura': '83.82', 'Pulso': '52', 'Lagartijas': '13', 'Sentadillas': '210', 'Saltos': '115'}\n",
      "{'\\ufeffcodigo_user': 'usuario13', 'Género': 'F', 'Peso': '69.85', 'Cintura': '86.36', 'Pulso': '64', 'Lagartijas': '14', 'Sentadillas': '215', 'Saltos': '105'}\n",
      "{'\\ufeffcodigo_user': 'usuario14', 'Género': 'M', 'Peso': '112.04', 'Cintura': '116.84', 'Pulso': '50', 'Lagartijas': '1', 'Sentadillas': '50', 'Saltos': '50'}\n",
      "{'\\ufeffcodigo_user': 'usuario15', 'Género': 'F', 'Peso': '87.54', 'Cintura': '91.44', 'Pulso': '46', 'Lagartijas': '6', 'Sentadillas': '70', 'Saltos': '31'}\n",
      "{'\\ufeffcodigo_user': 'usuario16', 'Género': 'M', 'Peso': '91.63', 'Cintura': '93.98', 'Pulso': '62', 'Lagartijas': '12', 'Sentadillas': '210', 'Saltos': '120'}\n",
      "{'\\ufeffcodigo_user': 'usuario17', 'Género': 'F', 'Peso': '79.83', 'Cintura': '93.98', 'Pulso': '54', 'Lagartijas': '4', 'Sentadillas': '60', 'Saltos': '25'}\n",
      "{'\\ufeffcodigo_user': 'usuario18', 'Género': 'M', 'Peso': '71.21', 'Cintura': '81.28', 'Pulso': '52', 'Lagartijas': '11', 'Sentadillas': '230', 'Saltos': '80'}\n",
      "{'\\ufeffcodigo_user': 'usuario19', 'Género': 'F', 'Peso': '70.76', 'Cintura': '83.82', 'Pulso': '54', 'Lagartijas': '15', 'Sentadillas': '225', 'Saltos': '73'}\n",
      "{'\\ufeffcodigo_user': 'usuario20', 'Género': 'F', 'Peso': '62.60', 'Cintura': '83.82', 'Pulso': '68', 'Lagartijas': '2', 'Sentadillas': '110', 'Saltos': '43'}\n"
     ]
    }
   ],
   "source": [
    "with open('datos_gimnasio.csv', 'r', encoding='utf-8') as archivo_csv:\n",
    "    lector = csv.DictReader(archivo_csv)\n",
    "    for fila in lector:\n",
    "        print(fila)"
   ]
  },
  {
   "cell_type": "code",
   "execution_count": null,
   "id": "0897eddd-3cf6-4c3c-a843-29aa4ab72b64",
   "metadata": {},
   "outputs": [],
   "source": [
    "#Otro modo\n",
    "import panda as pd\n",
    "datos_gym_df =pd.read_csv(\"datos_gimnasio.csv\")\n",
    "\n",
    "pd.set_option(\"display.precision\",1)\n",
    "datos_gymdf.tail(5)\n",
    "\n",
    "datos_gym_df.columns=[\"Codigo\",\"Genero\",\"Peso\",\"Cintura\",\"Pulso\",\"Lagartijas\",\"Sentadillas\",\"Saltos\"]\n",
    "datos_gym_df.head()\n",
    "\n",
    "datos_gym_df.describe()\n",
    "\n",
    "(datos_gym_df.Genero == \"F\").describe()\n",
    "\n",
    "import matplotlib.pyplot as plt\n",
    "histogram = datos_gym_df.hist()"
   ]
  },
  {
   "cell_type": "markdown",
   "id": "7d1c9c3c-1303-479d-9e38-21aa11d88a84",
   "metadata": {},
   "source": [
    "Ahora mostraremos oslo las últimas 5 filas"
   ]
  },
  {
   "cell_type": "code",
   "execution_count": 6,
   "id": "cf33d841-1a3b-42ca-84c7-7a947cbf99c8",
   "metadata": {},
   "outputs": [
    {
     "name": "stdout",
     "output_type": "stream",
     "text": [
      "{'handle': '@charlidamelio', 'name': 'Charlie', 'num_seg': 108.1}\n",
      "{'handle': '@addisonre', 'name': 'Addison', 'num_seg': 76.4}\n",
      "{'handle': '@zachking', 'name': 'Zach', 'num_seg': 56.6}\n",
      "{'handle': '@bellapoarch', 'name': 'Bella', 'num_seg': 56.3}\n"
     ]
    }
   ],
   "source": [
    "datos = []\n",
    "with open('seguidores.csv', 'r', encoding='utf-8') as archivo_csv:\n",
    "    lector = csv.DictReader(archivo_csv)\n",
    "    for fila in lector:\n",
    "        fila['num_seg'] = float(fila['num_seg'])\n",
    "        datos.append(fila)\n",
    "\n",
    "# Mostrar solo las últimas 5 filas\n",
    "ultimas_5 = datos[-5:]\n",
    "for fila in ultimas_5:\n",
    "    print(fila)"
   ]
  },
  {
   "cell_type": "code",
   "execution_count": null,
   "id": "305a1d3d-0b99-44e3-9a51-cea3873b5b08",
   "metadata": {},
   "outputs": [],
   "source": []
  },
  {
   "cell_type": "markdown",
   "id": "04c2d5ed-d6f6-4e10-8c6e-a232315d5d88",
   "metadata": {},
   "source": [
    "Vamos a modificar los encabezados del data frame"
   ]
  },
  {
   "cell_type": "code",
   "execution_count": 7,
   "id": "fa4d4a03-8ec1-4e35-85dd-9a58bb15f77f",
   "metadata": {},
   "outputs": [
    {
     "name": "stdout",
     "output_type": "stream",
     "text": [
      "  codigo_user Género   Peso  Cintura  Pulso  Lagartijas  Sentadillas  Saltos\n",
      "0    usuario1      M  86.64    91.44     50           5          162      60\n",
      "1    usuario2      M  85.73    93.98     52           2          110      60\n",
      "2    usuario3      M  87.54    96.52     58          12          101     101\n",
      "3    usuario4      F  73.48    88.90     62          12          105      37\n",
      "4    usuario5      M  85.73    88.90     46          13          155      58\n"
     ]
    }
   ],
   "source": [
    "import pandas as pd\n",
    "\n",
    "df = pd.read_csv('datos_gimnasio.csv')\n",
    "print(df.head())"
   ]
  },
  {
   "cell_type": "code",
   "execution_count": null,
   "id": "2745e7b4-42c3-45a2-b1f4-ee28da9eac50",
   "metadata": {},
   "outputs": [],
   "source": [
    "#Si quieres cambiar todos los nombres de columnas:\n",
    "\n",
    "df.columns = ['usuario', 'g', 'otro peso']\n",
    "print(df.head())"
   ]
  },
  {
   "cell_type": "markdown",
   "id": "90eefa92-6541-4252-bafb-e960a4775172",
   "metadata": {},
   "source": [
    "Y ahora usamos describe para obtener un resumen de las estadisticas de los datos"
   ]
  },
  {
   "cell_type": "code",
   "execution_count": null,
   "id": "6bd1e60f-3a68-4303-a621-506093fd26bf",
   "metadata": {},
   "outputs": [],
   "source": [
    "#Si no quieres cambiar todas, puedes usar .rename():\n",
    "\n",
    "df = df.rename(columns={\n",
    "    'handle': 'usuario',\n",
    "    'Género': 'G'\n",
    "})\n",
    "print(df.head())"
   ]
  },
  {
   "cell_type": "markdown",
   "id": "f6b07c8b-6397-4a0b-884f-22a93923c09a",
   "metadata": {},
   "source": [
    "Que tal que solo queremos estadisticas de mujeres? 👩🏻"
   ]
  },
  {
   "cell_type": "code",
   "execution_count": 10,
   "id": "be9d607d-efe9-40fb-b9fe-a858d3bb43ae",
   "metadata": {},
   "outputs": [
    {
     "name": "stdout",
     "output_type": "stream",
     "text": [
      "   codigo_user Género   Peso  Cintura  Pulso  Lagartijas  Sentadillas  Saltos\n",
      "3     usuario4      F  73.48    88.90     62          12          105      37\n",
      "5     usuario6      F  82.55    91.44     56           4          101      42\n",
      "7     usuario8      F  75.75    86.36     60           6          125      40\n",
      "8     usuario9      F  79.83    78.74     74          15          200      40\n",
      "9    usuario10      F  69.85    83.82     56          17          251     250\n",
      "11   usuario12      F  75.30    83.82     52          13          210     115\n",
      "12   usuario13      F  69.85    86.36     64          14          215     105\n",
      "14   usuario15      F  87.54    91.44     46           6           70      31\n",
      "16   usuario17      F  79.83    93.98     54           4           60      25\n",
      "18   usuario19      F  70.76    83.82     54          15          225      73\n",
      "19   usuario20      F  62.60    83.82     68           2          110      43\n"
     ]
    }
   ],
   "source": [
    "mujeres = df[df['Género'] == 'F']\n",
    "print(mujeres)"
   ]
  },
  {
   "cell_type": "markdown",
   "id": "f1ad722c-5b9c-43e7-816c-d09df3828f57",
   "metadata": {},
   "source": [
    "Hagamos una grafica de los datos del gym 📊"
   ]
  },
  {
   "cell_type": "code",
   "execution_count": 19,
   "id": "82d8101d-a51e-470b-929e-e09fadf7f58d",
   "metadata": {},
   "outputs": [
    {
     "data": {
      "image/png": "[encoded data removed]",
      "text/plain": [
       "<Figure size 640x480 with 1 Axes>"
      ]
     },
     "metadata": {},
     "output_type": "display_data"
    }
   ],
   "source": [
    "import seaborn as sns #Librería en matplotlib que ofrece gráficas más atractivas y estadísticas\n",
    "\n",
    "var = \"Pulso\"\n",
    "data = pd.concat([df[\"Lagartijas\"], df [var]],axis=1)\n",
    "data.plot.scatter(x=var, y =\"Lagartijas\", ylim=(0,25))\n",
    "plt.show()"
   ]
  },
  {
   "cell_type": "code",
   "execution_count": 20,
   "id": "83a71029-77cd-45de-9734-bcee327e7b41",
   "metadata": {},
   "outputs": [
    {
     "data": {
      "image/png": "[encoded data removed]",
      "text/plain": [
       "<Figure size 640x480 with 1 Axes>"
      ]
     },
     "metadata": {},
     "output_type": "display_data"
    }
   ],
   "source": [
    "plt.hist(df[\"Pulso\"],density = True, bins = 50)\n",
    "sns.kdeplot(df[\"Pulso\"])\n",
    "plt.show()"
   ]
  },
  {
   "cell_type": "code",
   "execution_count": null,
   "id": "b2afc686-8bd6-4760-a7cb-ca6e44191144",
   "metadata": {},
   "outputs": [],
   "source": []
  }
 ],
 "metadata": {
  "kernelspec": {
   "display_name": "Python 3",
   "language": "python",
   "name": "python3"
  },
  "language_info": {
   "codemirror_mode": {
    "name": "ipython",
    "version": 3
   },
   "file_extension": ".py",
   "mimetype": "text/x-python",
   "name": "python",
   "nbconvert_exporter": "python",
   "pygments_lexer": "ipython3",
   "version": "3.14.0"
  }
 },
 "nbformat": 4,
 "nbformat_minor": 5
}
