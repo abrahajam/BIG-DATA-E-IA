{
 "cells": [
  {
   "cell_type": "markdown",
   "id": "69901415-871c-4128-94ba-7cb605818be1",
   "metadata": {},
   "source": [
    "# 4.- Funciones"
   ]
  },
  {
   "cell_type": "markdown",
   "id": "82a4386e-b878-475e-b82d-03dbcb9d44d3",
   "metadata": {},
   "source": [
    "## 4.2.- Función def"
   ]
  },
  {
   "cell_type": "markdown",
   "id": "8e864b12-a5a9-4cde-b565-a59929d9d7eb",
   "metadata": {},
   "source": [
    "Vamos a comenzar creando una funcion que tome un número y devuelva su raiz cuadrada"
   ]
  },
  {
   "cell_type": "code",
   "execution_count": 98,
   "id": "c555a87f-f94f-4dfb-ac88-4bd40e1f2c96",
   "metadata": {},
   "outputs": [
    {
     "data": {
      "text/plain": [
       "1.4142135623730951"
      ]
     },
     "execution_count": 98,
     "metadata": {},
     "output_type": "execute_result"
    }
   ],
   "source": [
    "import math\n",
    "\n",
    "def raiz_cuadrada(n1):\n",
    "    \"\"\"ESTA FUNCIÓN REALIZA LA RAÍZ CUADRADA\"\"\"\n",
    "    return math.sqrt(n1) #n1 ** (1/2)\n",
    "\n",
    "\n",
    "raiz_cuadrada(2)"
   ]
  },
  {
   "cell_type": "markdown",
   "id": "a034c45f-dd3c-4e3b-b4b5-4c266b7eb003",
   "metadata": {},
   "source": [
    "Las funciones también las podemos llamar desde otras expresiones como print"
   ]
  },
  {
   "cell_type": "code",
   "execution_count": 91,
   "id": "24499624-16fa-4b44-b50d-a0a77dd65543",
   "metadata": {},
   "outputs": [
    {
     "name": "stdout",
     "output_type": "stream",
     "text": [
      "La raíz cuadrada de 2 es 1.4142135623730951\n"
     ]
    }
   ],
   "source": [
    "print(\"La raíz cuadrada de 2 es\",raiz_cuadrada(2))"
   ]
  },
  {
   "cell_type": "markdown",
   "id": "5fa7a304-a3ac-49f8-a9c7-985ff3cd4738",
   "metadata": {},
   "source": [
    "Muchas funciones podemos ? para saber como se usa la función"
   ]
  },
  {
   "cell_type": "code",
   "execution_count": 99,
   "id": "48187ac5-0ca4-4412-9b2c-8dc240a0a891",
   "metadata": {},
   "outputs": [
    {
     "name": "stdout",
     "output_type": "stream",
     "text": [
      "\u001b[31mSignature:\u001b[39m raiz_cuadrada(n1)\n",
      "\u001b[31mDocstring:\u001b[39m ESTA FUNCIÓN REALIZA LA RAÍZ CUADRADA\n",
      "\u001b[31mFile:\u001b[39m      c:\\users\\techie10\\appdata\\local\\temp\\ipykernel_2152\\3976889782.py\n",
      "\u001b[31mType:\u001b[39m      function"
     ]
    }
   ],
   "source": [
    "raiz_cuadrada?"
   ]
  },
  {
   "cell_type": "markdown",
   "id": "55e03a1c-54ea-4685-b6e0-1880a7073360",
   "metadata": {},
   "source": [
    "#### Por tu cuenta\n",
    "\n",
    "Define una función que calcule la raiz cubica de un numero dado"
   ]
  },
  {
   "cell_type": "code",
   "execution_count": null,
   "id": "3e9e8b00-c189-400d-b1ba-467fe444b379",
   "metadata": {},
   "outputs": [
    {
     "data": {
      "text/plain": [
       "1.259921049894873"
      ]
     },
     "execution_count": 97,
     "metadata": {},
     "output_type": "execute_result"
    }
   ],
   "source": [
    "def raiz_cubica(n1):\n",
    "    return math.cbrt(n1) #n1**(1/3)\n",
    "\n",
    "\n",
    "raiz_cubica(2)"
   ]
  },
  {
   "cell_type": "markdown",
   "id": "dc1856d4-be0c-4cc6-b217-10fb4bab5fe6",
   "metadata": {},
   "source": [
    "## 4.3.- Funciones con Múltiples Parámetros"
   ]
  },
  {
   "cell_type": "markdown",
   "id": "1f12cc0d-bd8e-45a9-b1b8-f976783ccf4f",
   "metadata": {},
   "source": [
    "Ahora armaremos una función usando IF que nos dice cual es la raiz cuadrada más grande de 3 números"
   ]
  },
  {
   "cell_type": "code",
   "execution_count": 101,
   "id": "8f4f0077-7108-42ce-942e-e12ee8744582",
   "metadata": {},
   "outputs": [
    {
     "name": "stdout",
     "output_type": "stream",
     "text": [
      "3.1622776601683795\n"
     ]
    }
   ],
   "source": [
    "def raiz_cuadrada_mayor(n1,n2,n3):\n",
    "    result1 =math.sqrt(n1)\n",
    "    result2 =math.sqrt(n2)\n",
    "    result3 =math.sqrt(n3)\n",
    "\n",
    "    raizmax = result1\n",
    "\n",
    "    if result2 > result1:\n",
    "        raizmax = result2\n",
    "    if result3 > raizmax:\n",
    "        raizmax = result3\n",
    "    return raizmax\n",
    "\n",
    "result = raiz_cuadrada_mayor(4,3,10)\n",
    "print(result)"
   ]
  },
  {
   "cell_type": "markdown",
   "id": "21bdb948-fa7a-4c21-9acb-6ae8266aa3e6",
   "metadata": {},
   "source": [
    "Por si las dudas, esto se podría haber simplificado usando Max y Min"
   ]
  },
  {
   "cell_type": "code",
   "execution_count": 102,
   "id": "8a495cc4-00c7-4cfb-9d0c-c35dea9683ae",
   "metadata": {},
   "outputs": [
    {
     "name": "stdout",
     "output_type": "stream",
     "text": [
      "10\n"
     ]
    }
   ],
   "source": [
    "\n",
    "def raiz_cuadrada_mayor(n1, n2, n3):\n",
    "    # Usamos max con una función clave (key) que calcula la raíz cuadrada\n",
    "    return max([n1, n2, n3], key=lambda x: math.sqrt(x))\n",
    "\n",
    "result = raiz_cuadrada_mayor(4, 3, 10)\n",
    "print(result)"
   ]
  },
  {
   "cell_type": "code",
   "execution_count": 103,
   "id": "97730a14",
   "metadata": {},
   "outputs": [
    {
     "data": {
      "text/plain": [
       "50.0"
      ]
     },
     "execution_count": 103,
     "metadata": {},
     "output_type": "execute_result"
    }
   ],
   "source": [
    "max(18,64,100)**1/2"
   ]
  },
  {
   "cell_type": "code",
   "execution_count": 104,
   "id": "a7c50bd1",
   "metadata": {},
   "outputs": [
    {
     "data": {
      "text/plain": [
       "9.0"
      ]
     },
     "execution_count": 104,
     "metadata": {},
     "output_type": "execute_result"
    }
   ],
   "source": [
    "min(18,64,100)**1/2"
   ]
  },
  {
   "cell_type": "markdown",
   "id": "83d18c4c-e99c-4f4c-a0dc-41b41f50c6ed",
   "metadata": {},
   "source": [
    "#### Por tu cuenta\n",
    "\n",
    "Llama la función max con la lista 15,82,13,55 como argumento, yluego la min con la palabara amarillo como argumento"
   ]
  },
  {
   "cell_type": "code",
   "execution_count": 9,
   "id": "615aae0a",
   "metadata": {},
   "outputs": [
    {
     "name": "stdout",
     "output_type": "stream",
     "text": [
      "El número mayor es: 82\n",
      "La letra más pequeña es: a\n"
     ]
    }
   ],
   "source": [
    "# Usar max con una lista de números\n",
    "mayor = max([15, 82, 13, 55])\n",
    "print(\"El número mayor es:\", mayor)\n",
    "\n",
    "# Usar min con una palabra\n",
    "menor_letra = min(\"amarillo\")\n",
    "print(\"La letra más pequeña es:\", menor_letra)"
   ]
  },
  {
   "cell_type": "code",
   "execution_count": 105,
   "id": "95b2a9ab",
   "metadata": {},
   "outputs": [
    {
     "name": "stdout",
     "output_type": "stream",
     "text": [
      "82\n",
      "a\n"
     ]
    }
   ],
   "source": [
    "lista = [15,82,13,55]\n",
    "\n",
    "print(max(lista))\n",
    "print(min(\"amarillo\"))"
   ]
  },
  {
   "cell_type": "markdown",
   "id": "2d356f80-2d18-4849-a3dd-4253cb4edcd6",
   "metadata": {},
   "source": [
    "## 4.4.- Números aleatorios"
   ]
  },
  {
   "cell_type": "markdown",
   "id": "c7ad0802-525b-4399-8fc7-454593d86ae9",
   "metadata": {},
   "source": [
    "Vamos a simular el lanzamiento de una moneda (cara o cruz), usemos la biblioteca random y simulemos 10 tiros"
   ]
  },
  {
   "cell_type": "code",
   "execution_count": 109,
   "id": "3a8bd37e-3b1a-499b-88c3-c3063b1c2f72",
   "metadata": {},
   "outputs": [
    {
     "name": "stdout",
     "output_type": "stream",
     "text": [
      "Cruz (1) Cara (0) Cruz (1) Cara (0) Cara (0) Cruz (1) Cruz (1) Cara (0) Cara (0) Cruz (1) "
     ]
    }
   ],
   "source": [
    "import random\n",
    "for num in range (10):\n",
    "    numero_flotante = random.randint(0,1)\n",
    "    if(numero_flotante == 0):\n",
    "        print(\"Cara (0)\",end=\" \")\n",
    "    else:\n",
    "        print(\"Cruz (1)\",end=\" \")\n"
   ]
  },
  {
   "cell_type": "markdown",
   "id": "05cefe11-289a-44e2-a987-b443cce37ce3",
   "metadata": {},
   "source": [
    "Ejecutalo de nuevo, checa como ahora tenemos diferentes resultados"
   ]
  },
  {
   "cell_type": "markdown",
   "id": "4e02ace3-df9d-41aa-87bd-6fd2daa2d0a4",
   "metadata": {},
   "source": [
    "Ahora vamos a escribir un código que simule el lanzamiento de una moneda 100,000 veces. No vamos a mostrar 100,000 resultados, solo una pequeña tabla con todas las caras y todas la cruces"
   ]
  },
  {
   "cell_type": "code",
   "execution_count": 116,
   "id": "70ee75bc-9a07-4c56-af3b-38cc3efcd256",
   "metadata": {},
   "outputs": [
    {
     "name": "stdout",
     "output_type": "stream",
     "text": [
      "1=Cara, 0 = Cruz    Frecuencia\n",
      "             1        50205\n",
      "             0        49795\n"
     ]
    }
   ],
   "source": [
    "import random\n",
    "contador_cara=0\n",
    "contador_cruz=0\n",
    "\n",
    "for num in range (100000):\n",
    "    numero_random = random.randint(0,1) #random.randrange (0,2)\n",
    "    if(numero_random == 0):\n",
    "        contador_cara +=1\n",
    "    else:\n",
    "        contador_cruz +=1\n",
    "\n",
    "#print(f\"Cruz = {contador_cruz}\\nCara = {contador_cara}\")\n",
    "\n",
    "print(f'1=Cara, 0 = Cruz {\"Frecuencia\":>13}')\n",
    "print(f'{1:>14}{contador_cara:>13}')\n",
    "print(f'{0:>14}{contador_cruz:>13}') #Espacios entre los prints"
   ]
  },
  {
   "cell_type": "markdown",
   "id": "5ac8c289-07af-4305-a7b0-a47f551d142a",
   "metadata": {},
   "source": [
    "Si queremos obligar a que random sieeeempre nos de los mismos resultados, podemos usar seed. Arma una semilla de 25 y ejecuta el código 2 veces, checa como se repita (seed necesita repetirse 2 veces tmb)"
   ]
  },
  {
   "cell_type": "code",
   "execution_count": 119,
   "id": "06562bd7-2288-4e71-b817-55aeae5017b4",
   "metadata": {},
   "outputs": [
    {
     "name": "stdout",
     "output_type": "stream",
     "text": [
      "Primera ejecución:\n",
      "93\n",
      "88\n",
      "99\n",
      "20\n",
      "34\n",
      "\n",
      "Segunda ejecución:\n",
      "93\n",
      "88\n",
      "99\n",
      "20\n",
      "34\n"
     ]
    }
   ],
   "source": [
    "# Primera ejecución\n",
    "random.seed(20)\n",
    "print(\"Primera ejecución:\")\n",
    "for i in range(5):\n",
    "    print(random.randint(1, 100))\n",
    "\n",
    "# Segunda ejecución\n",
    "random.seed(20)\n",
    "print(\"\\nSegunda ejecución:\")\n",
    "for i in range(5):\n",
    "    print(random.randint(1, 100))"
   ]
  },
  {
   "cell_type": "markdown",
   "id": "ae4f4e14-ebd5-45f8-a8e4-9b31641a0af1",
   "metadata": {},
   "source": [
    "Es momento de jugar a \"El Gran 8\". \n",
    "\n",
    "Lo primero será lanzar un par de dados - arma una función que simule 2 dados y devuelva los valores que cayeron"
   ]
  },
  {
   "cell_type": "code",
   "execution_count": 127,
   "id": "07d2eda1-61af-4814-89da-822a1cb05e01",
   "metadata": {},
   "outputs": [
    {
     "name": "stdout",
     "output_type": "stream",
     "text": [
      "Salieron los dados: (1, 2)\n"
     ]
    }
   ],
   "source": [
    "def lanzar_dados():\n",
    "    dado1 = random.randint(1, 6)  # Primer dado\n",
    "    dado2 = random.randint(1, 6)  # Segundo dado\n",
    "    return dado1, dado2  # Devolvemos ambos valores como una tupla\n",
    "\n",
    "print(\"Salieron los dados:\", lanzar_dados())"
   ]
  },
  {
   "cell_type": "markdown",
   "id": "6c524cee-4fb0-496d-b33b-343a1b9d6d62",
   "metadata": {},
   "source": [
    "Ahora arma una función que muestre la suma de los resultados de los 2 dados"
   ]
  },
  {
   "cell_type": "code",
   "execution_count": 139,
   "id": "f64c316a-f793-41ed-a4c0-68d014fbe816",
   "metadata": {},
   "outputs": [],
   "source": [
    "def suma_dados(dado):\n",
    "    d1, d2 = (dado)                  # Calcula la suma\n",
    "    print(f\"Dados: {d1} y {d2} → Suma: {sum(dado)}\")\n",
    "    \n"
   ]
  },
  {
   "cell_type": "markdown",
   "id": "c5eb4532-dce4-4397-b753-223bb5030a8f",
   "metadata": {},
   "source": [
    "Ahora necesitamos una variable que almacene el resutlado de lanzar los dados (funcion 1) y otra que sume los resultados de la función 1."
   ]
  },
  {
   "cell_type": "code",
   "execution_count": 140,
   "id": "9f51af4c-2def-494b-b7a2-9201414a4019",
   "metadata": {},
   "outputs": [
    {
     "name": "stdout",
     "output_type": "stream",
     "text": [
      "Dados: 6 y 5 → Suma: 11\n"
     ]
    }
   ],
   "source": [
    "resultado = lanzar_dados()\n",
    "suma_dados(resultado)"
   ]
  },
  {
   "cell_type": "markdown",
   "id": "21576096-58ea-4bd7-9e1b-bbe197aa08f2",
   "metadata": {},
   "source": [
    "Ahora, vamos  a simular las consecuencias del primer tiro - si la suma es 8, ganaste, si es 7, perdiste, y si no, continuamos"
   ]
  },
  {
   "cell_type": "code",
   "execution_count": 206,
   "id": "b35649ce-62bb-48fe-904a-089dccb42867",
   "metadata": {},
   "outputs": [
    {
     "name": "stdout",
     "output_type": "stream",
     "text": [
      "Dados: 4 y 2 → Suma: 6\n",
      "Sigue jugando, encuentra el gran 8\n",
      "Dados: 2 y 6 → Suma: 8\n",
      "El resultado es Ganaste\n"
     ]
    }
   ],
   "source": [
    "valores_logrados = lanzar_dados()\n",
    "suma_dados(valores_logrados)\n",
    "sum_dados = sum (valores_logrados)\n",
    "\n",
    "if sum_dados == 8:\n",
    "    status_jugador = \"Ganaste\"\n",
    "elif sum_dados == 7:\n",
    "    status_jugador = \"Perdiste\"\n",
    "else:\n",
    "    status_jugador = \"Continuar\"\n",
    "    print(\"Sigue jugando, encuentra el gran 8\")\n",
    "    \n",
    "\n",
    "while status_jugador == \"Continuar\":\n",
    "    valores_logrados = lanzar_dados()\n",
    "    suma_dados(valores_logrados)\n",
    "    sum_dados = sum (valores_logrados)\n",
    "\n",
    "    if sum_dados == 8:\n",
    "        status_jugador = \"Ganaste\"\n",
    "    elif sum_dados == 7:\n",
    "        status_jugador = \"Perdiste\"\n",
    "\n",
    "print(\"El resultado es\", status_jugador)\n"
   ]
  },
  {
   "cell_type": "markdown",
   "id": "34507a56-d650-4156-b1f2-d485a9b3634e",
   "metadata": {},
   "source": [
    "Y ahora con un bucle vamos a seguir el juego, se relanzan los dados y si se hace un bucle while que mientras que no haya un resultado de 6,8, o 7, se sigue tirando, si no se define si se ganó o se perdió"
   ]
  },
  {
   "cell_type": "code",
   "execution_count": 213,
   "id": "0142cde5-6158-4c73-bbf4-e2d48efcd532",
   "metadata": {},
   "outputs": [
    {
     "name": "stdout",
     "output_type": "stream",
     "text": [
      "Dados: 3 y 5 → Suma: 8\n",
      "El resultado es Ganaste\n"
     ]
    }
   ],
   "source": [
    "status_jugador = \"Continuar\"\n",
    "sum_dados = 0\n",
    "\n",
    "while status_jugador == \"Continuar\" and sum_dados !=6:\n",
    "    valores_logrados = lanzar_dados()\n",
    "    suma_dados(valores_logrados)\n",
    "    sum_dados = sum(valores_logrados)\n",
    "\n",
    "    if sum_dados ==8:\n",
    "        status_jugador = \"Ganaste\"\n",
    "    elif sum_dados ==7:\n",
    "        status_jugador = \"Perdiste\"\n",
    "\n",
    "\n",
    "if sum_dados !=6:\n",
    "    print(\"El resultado es\", status_jugador)\n",
    "else:\n",
    "    print(f'El {sum_dados} es mi nº de la mala suerte, me voy!')\n"
   ]
  },
  {
   "cell_type": "markdown",
   "id": "e330a41d-998a-4dd8-a8b9-51d255f0464d",
   "metadata": {},
   "source": [
    "Ahora unifica todo el código"
   ]
  },
  {
   "cell_type": "markdown",
   "id": "6c9e079c-3683-4901-a856-0bc24d2ea3b5",
   "metadata": {},
   "source": [
    "#### Por tu cuenta\n",
    "\n",
    "Usa un bucle for, randrange y una expresión condicional para simular 20 tiros de moneda, mosrando A para águila y S para Sello"
   ]
  },
  {
   "cell_type": "code",
   "execution_count": 144,
   "id": "24ea22a4-3fea-416b-af85-6a026c4ca9e7",
   "metadata": {},
   "outputs": [
    {
     "name": "stdout",
     "output_type": "stream",
     "text": [
      "A, A, A, A, A, S, S, S, S, A, A, A, S, A, A, A, A, A, S, S, "
     ]
    }
   ],
   "source": [
    "for tirada in range (20):\n",
    "    print(\"A\" if random.randrange(2)==0 else \"S\", end =\", \")"
   ]
  },
  {
   "cell_type": "markdown",
   "id": "902a0cb5-4b49-40f2-b285-afd87b760f18",
   "metadata": {},
   "source": [
    "## 4.5.- Funciones sin parámetros y múltiples parámetros"
   ]
  },
  {
   "cell_type": "markdown",
   "id": "71dd025d-bf4b-4c68-99b5-0cb72614740e",
   "metadata": {},
   "source": [
    "def raizcuadra(numero):\n",
    "    \"\"\"Esta función saca la raiz cuadra de un número\"\"\"\n",
    "    return numero ** (1/2)Se acuerdan de la primer funcion que hicimos? Que pasa si la corremos sin parametro?"
   ]
  },
  {
   "cell_type": "code",
   "execution_count": 152,
   "id": "e381d145-b1cb-46c5-99b9-9f83e90964bd",
   "metadata": {},
   "outputs": [
    {
     "data": {
      "text/plain": [
       "1.0"
      ]
     },
     "execution_count": 152,
     "metadata": {},
     "output_type": "execute_result"
    }
   ],
   "source": [
    "raiz_cuadrada()"
   ]
  },
  {
   "cell_type": "markdown",
   "id": "010114c1-509a-4cc1-a388-ca28850d9932",
   "metadata": {},
   "source": [
    "Asigna un parametro estandar para evitar este error"
   ]
  },
  {
   "cell_type": "code",
   "execution_count": 151,
   "id": "4b642fdf-9360-4196-9a89-c717e6bf1bda",
   "metadata": {},
   "outputs": [
    {
     "data": {
      "text/plain": [
       "1.0"
      ]
     },
     "execution_count": 151,
     "metadata": {},
     "output_type": "execute_result"
    }
   ],
   "source": [
    "def raiz_cuadrada(numero = 1):\n",
    "    \"\"\"Esta función calcula la raíz cuadrada de un nº\"\"\"\n",
    "    return numero ** (1/2)\n",
    "raiz_cuadrada()"
   ]
  },
  {
   "cell_type": "code",
   "execution_count": 153,
   "id": "7d7537a4",
   "metadata": {},
   "outputs": [
    {
     "data": {
      "text/plain": [
       "1.7320508075688772"
      ]
     },
     "execution_count": 153,
     "metadata": {},
     "output_type": "execute_result"
    }
   ],
   "source": [
    "raiz_cuadrada(3)"
   ]
  },
  {
   "cell_type": "markdown",
   "id": "6c3d4102-a3b3-40de-a916-1df8e54b4a29",
   "metadata": {},
   "source": [
    "También, hay funciones que pueden aceptar una cantidad indefinida de parametros - arma una función llamada promedio_calif que te diga el promedio de una cantidad arbitraria de calificaciones"
   ]
  },
  {
   "cell_type": "code",
   "execution_count": null,
   "id": "a3fc7b58-87e9-441e-9772-14f961c0f1b4",
   "metadata": {},
   "outputs": [],
   "source": [
    "def promedio_calif(*calif):\n",
    "    promedio = sum(calif)/len(calif)\n",
    "    return promedio"
   ]
  },
  {
   "cell_type": "code",
   "execution_count": 158,
   "id": "27b2e996-20e0-4093-99f6-dbf330689d39",
   "metadata": {},
   "outputs": [
    {
     "data": {
      "text/plain": [
       "7.2"
      ]
     },
     "execution_count": 158,
     "metadata": {},
     "output_type": "execute_result"
    },
    {
     "name": "stdout",
     "output_type": "stream",
     "text": [
      "\u001b[31mSignature:\u001b[39m len(obj, /)\n",
      "\u001b[31mDocstring:\u001b[39m Return the number of items in a container.\n",
      "\u001b[31mType:\u001b[39m      builtin_function_or_method"
     ]
    }
   ],
   "source": [
    "promedio_calif(8,9,7,6,6)"
   ]
  },
  {
   "cell_type": "markdown",
   "id": "e3f6b2e9-4ed4-4c34-81b1-e60ca1b59bff",
   "metadata": {},
   "source": [
    "#### Por tu cuenta\n",
    "\n",
    "Arma una función que reciba una cantidad arbitraria de argumentos y calcule el producto de multiplicarlos todos entre ellos"
   ]
  },
  {
   "cell_type": "code",
   "execution_count": 160,
   "id": "1e1d13b9-3cb1-43e5-9cf9-b6da52643a78",
   "metadata": {},
   "outputs": [],
   "source": [
    "def producto_calculator(*param):\n",
    "    prod = 1\n",
    "    for valores in param:\n",
    "        prod*= valores\n",
    "    return prod"
   ]
  },
  {
   "cell_type": "code",
   "execution_count": 161,
   "id": "0be5568a-6d23-4fcb-bbde-8c8fd120828d",
   "metadata": {},
   "outputs": [
    {
     "data": {
      "text/plain": [
       "60480"
      ]
     },
     "execution_count": 161,
     "metadata": {},
     "output_type": "execute_result"
    }
   ],
   "source": [
    "producto_calculator(4,3,5,2,7,8,9)"
   ]
  },
  {
   "cell_type": "markdown",
   "id": "6892461b-49af-466b-b947-2e649586b5d5",
   "metadata": {},
   "source": [
    "## 4.6.- Alcance Local y Global"
   ]
  },
  {
   "cell_type": "markdown",
   "id": "1c759b58-4b0f-4e11-9a61-af3ee94a26e6",
   "metadata": {},
   "source": [
    "Recordemos nuestra función de raiz cuadrada"
   ]
  },
  {
   "cell_type": "code",
   "execution_count": 162,
   "id": "47693ade-1834-4d6f-b5d2-1582b62d02af",
   "metadata": {},
   "outputs": [],
   "source": [
    "def raiz_cuadrada(numero = 1):\n",
    "    \"\"\"Esta función calcula la raíz cuadrada de un nº\"\"\"\n",
    "    return numero ** (1/2)"
   ]
  },
  {
   "cell_type": "code",
   "execution_count": 163,
   "id": "0fff8b16-95e3-4138-be6d-4e7296ba2535",
   "metadata": {},
   "outputs": [
    {
     "ename": "NameError",
     "evalue": "name 'numero' is not defined",
     "output_type": "error",
     "traceback": [
      "\u001b[31m---------------------------------------------------------------------------\u001b[39m",
      "\u001b[31mNameError\u001b[39m                                 Traceback (most recent call last)",
      "\u001b[36mCell\u001b[39m\u001b[36m \u001b[39m\u001b[32mIn[163]\u001b[39m\u001b[32m, line 1\u001b[39m\n\u001b[32m----> \u001b[39m\u001b[32m1\u001b[39m \u001b[43mnumero\u001b[49m\n",
      "\u001b[31mNameError\u001b[39m: name 'numero' is not defined"
     ]
    }
   ],
   "source": [
    "numero"
   ]
  },
  {
   "cell_type": "code",
   "execution_count": 164,
   "id": "390db399-8b11-49e4-9d96-09597a3ed6c4",
   "metadata": {},
   "outputs": [],
   "source": [
    "aproxpi = 3.14159"
   ]
  },
  {
   "cell_type": "code",
   "execution_count": 165,
   "id": "d8fc0616-47e6-49d1-a9d3-b3509686734c",
   "metadata": {},
   "outputs": [
    {
     "data": {
      "text/plain": [
       "3.14159"
      ]
     },
     "execution_count": 165,
     "metadata": {},
     "output_type": "execute_result"
    }
   ],
   "source": [
    "aproxpi"
   ]
  },
  {
   "cell_type": "code",
   "execution_count": 167,
   "id": "3b536999-dbf9-4b0d-ba9e-ed349124837a",
   "metadata": {},
   "outputs": [],
   "source": [
    "def area_circulo(radio):\n",
    "    return aproxpi*radio*radio"
   ]
  },
  {
   "cell_type": "code",
   "execution_count": 168,
   "id": "9583cbc4-7839-4a44-b549-582437f1e17f",
   "metadata": {},
   "outputs": [
    {
     "data": {
      "text/plain": [
       "314.159"
      ]
     },
     "execution_count": 168,
     "metadata": {},
     "output_type": "execute_result"
    }
   ],
   "source": [
    "area_circulo(10)"
   ]
  },
  {
   "cell_type": "code",
   "execution_count": 172,
   "id": "f4dcf9c9-8e0f-41c3-9fe9-ba08e16b6666",
   "metadata": {},
   "outputs": [
    {
     "data": {
      "text/plain": [
       "3"
      ]
     },
     "execution_count": 172,
     "metadata": {},
     "output_type": "execute_result"
    }
   ],
   "source": [
    "def modificar_aproxpi():\n",
    "    aproxpi = 3\n",
    "    return aproxpi\n",
    "\n",
    "modificar_aproxpi()"
   ]
  },
  {
   "cell_type": "code",
   "execution_count": 173,
   "id": "c51d8d48-1463-4ebb-9cc5-87390cffed33",
   "metadata": {},
   "outputs": [
    {
     "data": {
      "text/plain": [
       "3.14159"
      ]
     },
     "execution_count": 173,
     "metadata": {},
     "output_type": "execute_result"
    }
   ],
   "source": [
    "aproxpi"
   ]
  },
  {
   "cell_type": "code",
   "execution_count": null,
   "id": "2398a2f5-66f1-40a8-9a14-8c01332cc77d",
   "metadata": {},
   "outputs": [],
   "source": []
  },
  {
   "cell_type": "code",
   "execution_count": null,
   "id": "c1821b5d-62f8-4b06-a3cc-51b3a6911f97",
   "metadata": {},
   "outputs": [],
   "source": []
  },
  {
   "cell_type": "markdown",
   "id": "92d9d3b6-d1ae-480d-9026-b605aa24245f",
   "metadata": {},
   "source": [
    "Define la variable aprox pi =3.141 y luego define una función que llame a esta variable de acceso global"
   ]
  },
  {
   "cell_type": "markdown",
   "id": "90a3042c-1f46-4ef1-9f19-9cae0aeae31f",
   "metadata": {},
   "source": [
    "Intenta modificar aprox pi desde una función - verás que python no lo hace, solo modifica una copia"
   ]
  },
  {
   "cell_type": "markdown",
   "id": "5e3fc9f1-f1c8-419e-a7ad-ad015daa9ada",
   "metadata": {},
   "source": [
    "## 4.7.- El módulo de matemáticas de Python"
   ]
  },
  {
   "cell_type": "markdown",
   "id": "66a15356-6461-4202-a7d0-56526d3c1536",
   "metadata": {},
   "source": [
    "Calcula el log10 de 1000"
   ]
  },
  {
   "cell_type": "code",
   "execution_count": 180,
   "id": "d04ec048-5865-4040-a3f2-3b3cbcb1d40a",
   "metadata": {},
   "outputs": [
    {
     "data": {
      "text/plain": [
       "3.0"
      ]
     },
     "execution_count": 180,
     "metadata": {},
     "output_type": "execute_result"
    }
   ],
   "source": [
    "math.log10(1000)"
   ]
  },
  {
   "cell_type": "markdown",
   "id": "2db1131d-227b-46fe-aa43-ea83fd7ff1bc",
   "metadata": {},
   "source": [
    "Importa la librería math"
   ]
  },
  {
   "cell_type": "code",
   "execution_count": null,
   "id": "4252d1a8-4e52-43d1-a5a4-045def644677",
   "metadata": {},
   "outputs": [],
   "source": []
  },
  {
   "cell_type": "markdown",
   "id": "4cebaf0a-a127-4a90-971a-a306d39ebc10",
   "metadata": {},
   "source": [
    "ahora si, calcula el log10 de 1000"
   ]
  },
  {
   "cell_type": "code",
   "execution_count": null,
   "id": "47bf2d24-fcb4-4907-92e7-af142e2afded",
   "metadata": {},
   "outputs": [],
   "source": []
  },
  {
   "cell_type": "markdown",
   "id": "1494d2e2-c5f0-4426-bd28-3ccea38d7b09",
   "metadata": {},
   "source": [
    "## 4.8.- Medidas de tendencia central y Dispersión"
   ]
  },
  {
   "cell_type": "markdown",
   "id": "68b9172a-f029-4f3c-83d1-545ff8937e5a",
   "metadata": {},
   "source": [
    "Importa la librería d eestadistica, y crea una lista de calificaciones aleatorias entre 50 y 100"
   ]
  },
  {
   "cell_type": "code",
   "execution_count": 181,
   "id": "06d77b88-6f25-4ee2-81c9-deb91bde85d4",
   "metadata": {},
   "outputs": [],
   "source": [
    "import statistics\n",
    "\n",
    "notas = [random.randint(50,100) for i in range (10)]"
   ]
  },
  {
   "cell_type": "code",
   "execution_count": 182,
   "id": "55722831-d3af-4942-9a4c-fe1a3aac33b9",
   "metadata": {},
   "outputs": [
    {
     "data": {
      "text/plain": [
       "[94, 94, 56, 73, 70, 51, 71, 53, 79, 66]"
      ]
     },
     "execution_count": 182,
     "metadata": {},
     "output_type": "execute_result"
    }
   ],
   "source": [
    "notas"
   ]
  },
  {
   "cell_type": "code",
   "execution_count": null,
   "id": "f3a0f859-bc27-47e0-967c-714e6ed4d536",
   "metadata": {},
   "outputs": [
    {
     "data": {
      "text/plain": [
       "70.7"
      ]
     },
     "execution_count": 183,
     "metadata": {},
     "output_type": "execute_result"
    }
   ],
   "source": [
    "statistics.mean(notas) # Promedio"
   ]
  },
  {
   "cell_type": "code",
   "execution_count": null,
   "id": "35c23b1d-ff38-47e4-aea6-cdafea8eef6c",
   "metadata": {},
   "outputs": [
    {
     "data": {
      "text/plain": [
       "70.5"
      ]
     },
     "execution_count": 184,
     "metadata": {},
     "output_type": "execute_result"
    }
   ],
   "source": [
    "statistics.median(notas) # Valor central, normalización"
   ]
  },
  {
   "cell_type": "code",
   "execution_count": null,
   "id": "f2bfdcbb-f910-4533-8d78-c86b53f5931d",
   "metadata": {},
   "outputs": [
    {
     "data": {
      "text/plain": [
       "94"
      ]
     },
     "execution_count": 185,
     "metadata": {},
     "output_type": "execute_result"
    }
   ],
   "source": [
    "statistics.mode(notas) # Moda"
   ]
  },
  {
   "cell_type": "code",
   "execution_count": null,
   "id": "de849887-eed1-4d37-a7ad-16d5ff13afbf",
   "metadata": {},
   "outputs": [
    {
     "data": {
      "text/plain": [
       "43"
      ]
     },
     "execution_count": 186,
     "metadata": {},
     "output_type": "execute_result"
    }
   ],
   "source": [
    "max(notas)-min(notas) # Rango"
   ]
  },
  {
   "cell_type": "code",
   "execution_count": 187,
   "id": "c3604a84-a02c-421c-b5a4-cba89b768407",
   "metadata": {},
   "outputs": [
    {
     "data": {
      "text/plain": [
       "14.491721774861675"
      ]
     },
     "execution_count": 187,
     "metadata": {},
     "output_type": "execute_result"
    }
   ],
   "source": [
    "statistics.pstdev(notas) #Valor de desviación poblacional"
   ]
  },
  {
   "cell_type": "code",
   "execution_count": 188,
   "id": "a52ece6f-6db5-475e-aace-e5b49317270a",
   "metadata": {},
   "outputs": [
    {
     "data": {
      "text/plain": [
       "210.01"
      ]
     },
     "execution_count": 188,
     "metadata": {},
     "output_type": "execute_result"
    }
   ],
   "source": [
    "statistics.pvariance(notas) #Valor de varianza poblacional\n",
    "\n",
    "#Dispersión promedio al cuadrado\n",
    "\n",
    "#La varianza mide cuanto se alejan los datos de la media (el promedio)\n",
    "#Es la variabilidad de los valores, sirve para conocer la estabilidad de tus datos"
   ]
  },
  {
   "cell_type": "markdown",
   "id": "77e5a078-1a94-4fc1-acb0-4ae291e3ea0c",
   "metadata": {},
   "source": [
    "Calcula las medidas de tendencia central"
   ]
  },
  {
   "cell_type": "markdown",
   "id": "d0b2cda1-016b-4f15-8663-586820f6aae0",
   "metadata": {},
   "source": [
    "Calcula las medidas de dispersión"
   ]
  },
  {
   "cell_type": "markdown",
   "id": "e55f2a84-65b1-4e86-b4d4-9be69022fdc2",
   "metadata": {},
   "source": [
    "#### Por tu cuenta\n",
    "\n",
    "Para los numeros del 1 al 20, calcula la varianza y la desviacion estandar - compara con la varianza poblacional y la desviacion estandar poblacional"
   ]
  },
  {
   "cell_type": "code",
   "execution_count": 195,
   "id": "818097b9",
   "metadata": {},
   "outputs": [
    {
     "name": "stdout",
     "output_type": "stream",
     "text": [
      "Numeros: [1, 2, 3, 4, 5, 6, 7, 8, 9, 10, 11, 12, 13, 14, 15, 16, 17, 18, 19, 20]\n",
      "\n",
      "Resultados:\n",
      "Varianza muestral: 35.0000\n",
      "Desviación muestral: 5.9161\n",
      "Varianza poblacional: 33.2500\n",
      "Desviación poblacional: 5.7663\n",
      "\n",
      "Resultados:\n",
      "- Las medidas muestrales son ligeramente mayores porque dividen entre (N-1).\n",
      "- Las poblaciones se usan cuando los datos representan toda la población.\n"
     ]
    },
    {
     "data": {
      "image/png": "[encoded data removed]",
      "text/plain": [
       "<Figure size 800x500 with 1 Axes>"
      ]
     },
     "metadata": {},
     "output_type": "display_data"
    }
   ],
   "source": [
    "import matplotlib.pyplot as plt\n",
    "\n",
    "numeros = list(range(1,21))\n",
    "print(\"Numeros:\",numeros)\n",
    "\n",
    "varianza_muestral = statistics.variance(numeros)\n",
    "desviacion_muestral = statistics.stdev(numeros)\n",
    "\n",
    "varianza_poblacional = statistics.pvariance(numeros)\n",
    "desviacion_poblacional = statistics.pstdev(numeros)\n",
    " \n",
    "print(\"\\nResultados:\")\n",
    "print(f\"Varianza muestral: {varianza_muestral:.4f}\")  \n",
    "print(f\"Desviación muestral: {desviacion_muestral:.4f}\")  \n",
    "print(f\"Varianza poblacional: {varianza_poblacional:.4f}\")  \n",
    "print(f\"Desviación poblacional: {desviacion_poblacional:.4f}\")  \n",
    "\n",
    "print(\"\\nResultados:\")\n",
    "print(\"- Las medidas muestrales son ligeramente mayores porque dividen entre (N-1).\")\n",
    "print(\"- Las poblaciones se usan cuando los datos representan toda la población.\")\n",
    "\n",
    "etiquetas = [\"Varianza\", \"Desviación estandar\"]\n",
    "muestral = [varianza_muestral, desviacion_muestral]\n",
    "poblacional = [varianza_poblacional, desviacion_poblacional]\n",
    " \n",
    "x = range(len(etiquetas))\n",
    "ancho = 0.35\n",
    "\n",
    "plt.figure(figsize=(8,5))\n",
    "plt.bar([p-ancho/2 for p in x],muestral, width=ancho, label = \"Muestral\", color = \"skyblue\")\n",
    "plt.bar([p+ancho/2 for p in x],poblacional, width=ancho, label = \"Poblacional\", color = \"lightgreen\")\n",
    "\n",
    "plt.xticks(x,etiquetas)\n",
    "plt.ylabel(\"Valor\")\n",
    "plt.title(\"Comparación: Muestral vs Poblacional\")\n",
    "plt.legend()\n",
    "plt.grid(axis='y', linestyle = '--', alpha = 0.6)\n",
    "plt.show()\n"
   ]
  }
 ],
 "metadata": {
  "kernelspec": {
   "display_name": "Python 3",
   "language": "python",
   "name": "python3"
  },
  "language_info": {
   "codemirror_mode": {
    "name": "ipython",
    "version": 3
   },
   "file_extension": ".py",
   "mimetype": "text/x-python",
   "name": "python",
   "nbconvert_exporter": "python",
   "pygments_lexer": "ipython3",
   "version": "3.14.0"
  }
 },
 "nbformat": 4,
 "nbformat_minor": 5
}
