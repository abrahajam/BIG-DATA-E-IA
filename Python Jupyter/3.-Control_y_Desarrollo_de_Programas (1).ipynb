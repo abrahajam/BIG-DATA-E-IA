{
 "cells": [
  {
   "cell_type": "markdown",
   "id": "89030283-116c-4976-8e73-b89f8381e6f3",
   "metadata": {},
   "source": [
    "# 3.- Control y desarrollo de Programas"
   ]
  },
  {
   "cell_type": "markdown",
   "id": "dbbe85a8-e01d-4b2f-a971-a40e971242ad",
   "metadata": {},
   "source": [
    "## 3.3 Algoritmos"
   ]
  },
  {
   "cell_type": "markdown",
   "id": "1e24fd7e-76ad-4e6f-80db-907c3ddae4d5",
   "metadata": {},
   "source": [
    "#### Por tu cuenta\n",
    "\n",
    "Escribe el programa de python que realice las instrucciones en el algoritmo 3.3 de tu manual."
   ]
  },
  {
   "cell_type": "code",
   "execution_count": null,
   "id": "ea7857f1-87e9-4e21-9e39-83ab4bd47a0a",
   "metadata": {},
   "outputs": [],
   "source": []
  },
  {
   "cell_type": "markdown",
   "id": "301cb629-91e3-433c-800f-baad2534271e",
   "metadata": {},
   "source": [
    "## 3.7.- Sentencia if "
   ]
  },
  {
   "cell_type": "markdown",
   "id": "410f8e45-c2d2-460f-87f6-9ea211142915",
   "metadata": {},
   "source": [
    "El usuario proporciona su año de nacimiento\n",
    "La cantidad debe leerse como un entero\n",
    "Si la variable 2021 – año de nacimiento, es mayor o igual a 25,\n",
    "el programa debe mostrar: Posible cliente"
   ]
  },
  {
   "cell_type": "markdown",
   "id": "c12a57c1-25fd-422c-b991-689f2af4cc34",
   "metadata": {},
   "source": [
    "Entonces el código para alguien que dijo nació en 1993 será:"
   ]
  },
  {
   "cell_type": "code",
   "execution_count": 3,
   "id": "d20cc775-bacf-4494-baf2-43a2a9bf013a",
   "metadata": {},
   "outputs": [
    {
     "name": "stdout",
     "output_type": "stream",
     "text": [
      "Año de nacimiento: 2001\n"
     ]
    },
    {
     "name": "stdout",
     "output_type": "stream",
     "text": [
      "nanai\n"
     ]
    }
   ],
   "source": [
    "año_nacimiento=int(input(\"Año de nacimiento:\"))\n",
    "result = 2021 - año_nacimiento\n",
    "if result >= 25:\n",
    "    print(\"posible cliente\")\n",
    "                   "
   ]
  },
  {
   "cell_type": "markdown",
   "id": "9c93db3a-9773-40da-8d2f-f3b52be77c1d",
   "metadata": {},
   "source": [
    "Si no se añade indentación... error"
   ]
  },
  {
   "cell_type": "markdown",
   "id": "3ffd478d-5723-4baf-9845-10412bf3ff67",
   "metadata": {},
   "source": [
    "Hay que poner identación en todos lados"
   ]
  },
  {
   "cell_type": "markdown",
   "id": "a74cf5cc-5c5b-459e-bb49-9fb8683d514d",
   "metadata": {},
   "source": [
    "Todas las expresiones pueden ser interpretadas como falsas y verdaderas"
   ]
  },
  {
   "cell_type": "markdown",
   "id": "c8e79e45-5fc7-4a17-ad46-59d024196579",
   "metadata": {},
   "source": [
    "#### Por tu cuenta\n",
    "\n",
    "Cambia la fecha de nacimiento al 2002 del primer código"
   ]
  },
  {
   "cell_type": "code",
   "execution_count": 4,
   "id": "3335767a-1e5e-41d9-8c9f-701e1f73e08c",
   "metadata": {},
   "outputs": [
    {
     "name": "stdout",
     "output_type": "stream",
     "text": [
      "Año de nacimiento: 2002\n"
     ]
    }
   ],
   "source": [
    "año_nacimiento=int(input(\"Año de nacimiento:\"))\n",
    "result = 2021 - año_nacimiento\n",
    "if result >= 25:\n",
    "    print(\"posible cliente\")\n",
    "                   "
   ]
  },
  {
   "cell_type": "markdown",
   "id": "d4c29904-0f82-468e-9b25-3bcf5e671341",
   "metadata": {},
   "source": [
    "## 3.8.- Sentencia if..else, if..elif...else"
   ]
  },
  {
   "cell_type": "markdown",
   "id": "9cd25587-cc7a-4202-b3e5-5e99369a0f6c",
   "metadata": {},
   "source": [
    "El usuario proporciona su año de nacimiento\n",
    "\n",
    "La cantidad debe leerse como un entero\n",
    "\n",
    "Si la variable 2021 – año de nacimiento, es mayor o igual a 25,\n",
    "\n",
    "el programa debe mostrar: Posible cliente\n",
    "\n",
    "en otro caso,\n",
    "\n",
    "debe mostrar: No es candidato"
   ]
  },
  {
   "cell_type": "markdown",
   "id": "3c80901e-93b7-4c46-8042-a1d135f92142",
   "metadata": {},
   "source": [
    "OK, escribe el código de lo anterior, observa la identación, prueba para 1985"
   ]
  },
  {
   "cell_type": "code",
   "execution_count": null,
   "id": "6fc8df95-ced6-476d-921f-a9c38acbcc1f",
   "metadata": {},
   "outputs": [],
   "source": [
    "año_nacimiento=int(input(\"Año de nacimiento:\"))\n",
    "result = 2021 - año_nacimiento\n",
    "if result >= 25:\n",
    "    print(\"posible cliente\")\n",
    "else:\n",
    "    print(\"no es candidato\")"
   ]
  },
  {
   "cell_type": "markdown",
   "id": "eb5474b3-2c69-425d-b284-4b4973d3e4c4",
   "metadata": {},
   "source": [
    "Y ahora para 1999"
   ]
  },
  {
   "cell_type": "code",
   "execution_count": null,
   "id": "a1c7c3e9-c733-414e-a384-0d594a6018aa",
   "metadata": {},
   "outputs": [],
   "source": [
    "año_nacimiento=int(input(\"Año de nacimiento:\"))\n",
    "result = 1999 - año_nacimiento\n",
    "if result >= 25:\n",
    "    print(\"posible cliente\")\n",
    "else:\n",
    "    print(\"no es candidato\")"
   ]
  },
  {
   "cell_type": "markdown",
   "id": "b1cb650e-ff5d-4791-819e-3d4f31ae49f5",
   "metadata": {},
   "source": [
    "Ok, otra alternativa es asignar las acciones a una variable"
   ]
  },
  {
   "cell_type": "markdown",
   "id": "06bd7ff2-8017-4580-8cf4-845751e7143f",
   "metadata": {},
   "source": [
    "Cada condición (if) puede realizar más de una acción - solo recuerda indentar"
   ]
  },
  {
   "cell_type": "markdown",
   "id": "1781ed40-5814-4600-a8b6-2d9e5a816e9a",
   "metadata": {},
   "source": [
    "Por que si dejamos sin identación, siempre se va a ejecutar (y es un mundo de errores)"
   ]
  },
  {
   "cell_type": "markdown",
   "id": "45f8933d-a55f-4236-833d-8058d16395e6",
   "metadata": {},
   "source": [
    "Si la edad de la persona es mayor o igual a 60\n",
    "Mostrar: Adulto Mayor\n",
    "Si la edad de la persona es mayor o igual a 27\n",
    "Mostrar: Adulto\n",
    "Si la edad de la persona es mayor o igual a 18\n",
    "Mostrar: Joven\n",
    "Si la edad de la persona es mayor o igual a 12\n",
    "Mostrar: Adolescente\n",
    "En otro caso,\n",
    "Mostrar: Infante"
   ]
  },
  {
   "cell_type": "markdown",
   "id": "861e7951-f7d3-467c-9f92-e534069381c6",
   "metadata": {},
   "source": [
    "#### Por tu Cuenta\n",
    "\n",
    "Arma un programa basado en el pseudocódigo anterior"
   ]
  },
  {
   "cell_type": "code",
   "execution_count": 11,
   "id": "c8fd22ba-77a5-4033-a35a-d00947458df5",
   "metadata": {},
   "outputs": [
    {
     "name": "stdout",
     "output_type": "stream",
     "text": [
      "¿Cual es tu edad?: 12\n"
     ]
    },
    {
     "name": "stdout",
     "output_type": "stream",
     "text": [
      "Adolescente\n"
     ]
    }
   ],
   "source": [
    "edad = int(input(\"¿Cual es tu edad?:\"))\n",
    "if edad > 60 :\n",
    "    print(\"Adulto Mayor\")\n",
    "elif edad >= 27:\n",
    "    print(\"Adulto\")\n",
    "elif edad >= 18:\n",
    "    print(\"Joven\")\n",
    "elif edad >= 12:\n",
    "    print(\"Adolescente\")\n",
    "else:\n",
    "    print(\"Infante\")"
   ]
  },
  {
   "cell_type": "markdown",
   "id": "6a350229-d037-49b8-8a10-831c579ac107",
   "metadata": {},
   "source": [
    "## 3.9.- Sentencia While"
   ]
  },
  {
   "cell_type": "markdown",
   "id": "c774587b-29d9-475f-9912-24ab63b9fc04",
   "metadata": {},
   "source": [
    "Iniciar con potencia=4\n",
    "Mientras que potencia sea menor o igual a 817\n",
    "Potencia=potencia*4"
   ]
  },
  {
   "cell_type": "markdown",
   "id": "c91db9d8-93f3-4d3a-a657-9b2b47f3aa50",
   "metadata": {},
   "source": [
    "Arma un programa que ejecute el pseudocódigo anterior"
   ]
  },
  {
   "cell_type": "code",
   "execution_count": 17,
   "id": "fc738513-065b-4ede-be43-077f8cb20581",
   "metadata": {},
   "outputs": [
    {
     "name": "stdout",
     "output_type": "stream",
     "text": [
      "intentando salir...\n",
      "16\n",
      "intentando salir...\n",
      "64\n",
      "intentando salir...\n",
      "256\n",
      "intentando salir...\n",
      "1024\n",
      "FELICIDADES SALISTE WIWIWIWIWIIWI\n"
     ]
    }
   ],
   "source": [
    "potencia = 4\n",
    "\n",
    "while (potencia <= 817):\n",
    "    print(\"intentando salir...\")\n",
    "    potencia *= 4\n",
    "    print(potencia)\n",
    "print(\"FELICIDADES SALISTE WIWIWIWIWIIWI\")"
   ]
  },
  {
   "cell_type": "markdown",
   "id": "3cc4527c-0db2-489c-b3f4-6824da60fe0d",
   "metadata": {},
   "source": [
    "# 3.10.- Sentencia For"
   ]
  },
  {
   "cell_type": "markdown",
   "id": "faf76ecb-2024-4504-b999-397258a8b613",
   "metadata": {},
   "source": [
    "Analiza el siguiente ejemplo\n",
    "\n",
    "for caracter in ‘Palabra’:\n",
    "    print(caracter, end=’ ‘)\n",
    "\n"
   ]
  },
  {
   "cell_type": "code",
   "execution_count": 25,
   "id": "2be519f0-0b2f-41cd-889a-324243b1c74e",
   "metadata": {},
   "outputs": [
    {
     "name": "stdout",
     "output_type": "stream",
     "text": [
      "Palabra"
     ]
    }
   ],
   "source": [
    "for caracter in \"Palabra\":\n",
    "    print(caracter, end=\"\")\n",
    "\n",
    "# Con \"end =''\"\n"
   ]
  },
  {
   "cell_type": "markdown",
   "id": "836a856c-ded9-42f9-b816-ca57889fdbc2",
   "metadata": {},
   "source": [
    "Arma un programa que te calcule el factorial de algún número dado"
   ]
  },
  {
   "cell_type": "code",
   "execution_count": 36,
   "id": "5b8a792b-0d9f-4748-bb19-4f7882b890bc",
   "metadata": {},
   "outputs": [
    {
     "name": "stdout",
     "output_type": "stream",
     "text": [
      "Introduce un nº: 3\n"
     ]
    },
    {
     "name": "stdout",
     "output_type": "stream",
     "text": [
      "6\n"
     ]
    }
   ],
   "source": [
    "num_factorial = int(input(\"Introduce un nº:\"))\n",
    "result = 1\n",
    "for number in range (1,num_factorial+1):\n",
    "    result *= number\n",
    "\n",
    "print (result)"
   ]
  },
  {
   "cell_type": "markdown",
   "id": "19d3bbd6-743a-4232-8182-80982e08ef12",
   "metadata": {},
   "source": [
    "# num_factorial = int(input(\"Introduce un número para hacerle su factorial:\"))\n",
    "result = 1\n",
    "for num in num_factorial:\n",
    "    result *= num\n",
    "\n",
    "print(result)"
   ]
  },
  {
   "cell_type": "markdown",
   "id": "48fe5311-9076-44f6-8ef0-59ba0c09c9ea",
   "metadata": {},
   "source": [
    "Conoce el operador *= que te permite guardar el resultado en si mismo"
   ]
  },
  {
   "cell_type": "markdown",
   "id": "f8ee4c02-8084-4b20-beb0-ffddf7f9e8a4",
   "metadata": {},
   "source": [
    "Podemos usar range si la suceción de elementos en for es una suscesión ordenada"
   ]
  },
  {
   "cell_type": "markdown",
   "id": "89526fc0-663e-405b-9b71-4ad0c5eb77d6",
   "metadata": {},
   "source": [
    "Si necesitas salir del ciclo usa Break.\n",
    "\n",
    "Haz un programa que para todos los números del 1-10, muestre el número en pantalla... peeeero al llegar al 8 haga break."
   ]
  },
  {
   "cell_type": "code",
   "execution_count": 37,
   "id": "7b739677-ee9b-4511-aae4-e295dcf24242",
   "metadata": {},
   "outputs": [
    {
     "name": "stdout",
     "output_type": "stream",
     "text": [
      "1\n",
      "2\n",
      "3\n",
      "4\n",
      "5\n",
      "6\n",
      "7\n",
      "8\n"
     ]
    }
   ],
   "source": [
    "for number in range (1,11):\n",
    "    print (number)\n",
    "    if(number == 8):\n",
    "        break"
   ]
  },
  {
   "cell_type": "markdown",
   "id": "9ec03229-a673-4e57-be0a-44708327b956",
   "metadata": {},
   "source": [
    "#### Por tu cuenta\n",
    "\n",
    "Usa for para calcular el consumo promedio de los siguientes clientes\n",
    "\n",
    "[130,85,210,45,153,78.5,264.5,94]\n",
    "\n",
    "Esta lista te muestra el consumo de cada cliente"
   ]
  },
  {
   "cell_type": "code",
   "execution_count": 54,
   "id": "793cbe1c-3303-4284-a5f9-da91d55cbcc6",
   "metadata": {},
   "outputs": [
    {
     "name": "stdout",
     "output_type": "stream",
     "text": [
      "Media de los clientes 132.5\n"
     ]
    }
   ],
   "source": [
    "clientes = [130,85,210,45,153,78.5,264.5,94]\n",
    "sumatorio=0.0\n",
    "clientes_total = 0.0\n",
    "for number in clientes:\n",
    "    sumatorio += number\n",
    "    clientes_total +=1\n",
    "print (f\"Media de los clientes {sumatorio/clientes_total}\")\n",
    "    "
   ]
  },
  {
   "cell_type": "markdown",
   "id": "4dfbadfd-4552-40bb-be14-f0a06f6cc589",
   "metadata": {},
   "source": [
    "#### Por tu cuenta\n",
    "\n",
    "usa for para calcular el interes compuesto de una persona que invierte $10,000 en una cuenta que rinde el 8% de intereses. Supon que la persona reinvierte los intereses. Calcula la cantida ddel dinero al final de 10 años"
   ]
  },
  {
   "cell_type": "code",
   "execution_count": 3,
   "id": "6ae87f0a-c126-4686-a68a-718750cd6cb4",
   "metadata": {},
   "outputs": [
    {
     "name": "stdout",
     "output_type": "stream",
     "text": [
      "Año 1: $10,800.00\n",
      "Año 2: $11,664.00\n",
      "Año 3: $12,597.12\n",
      "Año 4: $13,604.89\n",
      "Año 5: $14,693.28\n",
      "Año 6: $15,868.74\n",
      "Año 7: $17,138.24\n",
      "Año 8: $18,509.30\n",
      "Año 9: $19,990.05\n",
      "Año 10: $21,589.25\n",
      "\n",
      "Monto final después de 10 años: $21,589.25\n"
     ]
    }
   ],
   "source": [
    "capital_inicial = 10000   # dólares\n",
    "tasa_interes = 0.08       # 8% anual\n",
    "años = 10\n",
    "\n",
    "# Inicializamos el monto con el capital inicial\n",
    "monto = capital_inicial\n",
    "\n",
    "# Calculamos el interés compuesto usando un bucle for\n",
    "for año in range(1, años + 1):\n",
    "    monto *= (1 + tasa_interes)\n",
    "    print(f\"Año {año}: ${monto:,.2f}\")\n",
    "\n",
    "print(f\"\\nMonto final después de {años} años: ${monto:,.2f}\")"
   ]
  },
  {
   "cell_type": "markdown",
   "id": "f70e0474-b78c-41e6-b4bf-b7d406afc18e",
   "metadata": {},
   "source": [
    "#### Por tu cuenta\n",
    "\n",
    "En una tienda de autoservicio hay un promotor en la sección de productos lácteos. La empresa\n",
    "para la que trabaja, le otorga un premio económico si rebasa $200 de ventas (venta meta) por\n",
    "cliente. La empresa cuenta con un registro en donde están marcadas las ventas de 8 clientes que\n",
    "adquirieron algunos de los productos de la marca. Por cada cliente que rebasó la cantidad meta se\n",
    "escribe 1, y si no la rebasa se escribe 2. Si número de clientes que rebasan la venta meta es más de\n",
    "la mitad, se le otorga el premio al promotor. Se requiere de un programa que señale si al promotor\n",
    "se le debe asignar el premio económico"
   ]
  },
  {
   "cell_type": "code",
   "execution_count": null,
   "id": "709467af-aa12-4e2b-a6f9-9ddbf3dc5cf4",
   "metadata": {},
   "outputs": [],
   "source": []
  },
  {
   "cell_type": "markdown",
   "id": "f8d3b5e3-6330-4c14-b58a-0cca551d2859",
   "metadata": {},
   "source": [
    "## 3.11.- Operadores Booleanos"
   ]
  },
  {
   "cell_type": "markdown",
   "id": "6c08d764-a3d9-4a66-b302-3d2b6ea26c9a",
   "metadata": {},
   "source": [
    "Arma un programa que revise si un cliente registró su mail Y que su salario mensual sea mayor a 20,000 pesos para poder declararlo como posible cliente"
   ]
  },
  {
   "cell_type": "code",
   "execution_count": null,
   "id": "5a56ad9a-8461-4b37-9822-ae169684fd99",
   "metadata": {},
   "outputs": [],
   "source": [
    "usuario = \"\"\n",
    "salario = 20000\n",
    "\n"
   ]
  },
  {
   "cell_type": "markdown",
   "id": "ef7df93f-b65c-44a8-8003-0eab0051c033",
   "metadata": {},
   "source": [
    "Arma un programa que revise si un posible candidato laboral va tiene titulo o al menos 5 años de experiencia laboral para poder llamarlo a entrevista"
   ]
  },
  {
   "cell_type": "code",
   "execution_count": null,
   "id": "53f119f7-01eb-46d9-b9c8-be1eb9ecdcb2",
   "metadata": {},
   "outputs": [
    {
     "name": "stdout",
     "output_type": "stream",
     "text": [
      "Te queremos entrevistar\n"
     ]
    }
   ],
   "source": [
    "class Candidato:\n",
    "    def __init__(self, nombre, experiencia):\n",
    "        self.nombre = nombre  # Atributo de instancia\n",
    "        self.experiencia = experiencia      # Atributo de instancia\n",
    "\n",
    "\n",
    "Candidato1 = Candidato(\"Abraham\", True)\n",
    "\n",
    "if Candidato1.experiencia :\n",
    "    print(\"Te queremos entrevistar\")\n",
    "else:\n",
    "    print(\"ya te llamaremos\")"
   ]
  }
 ],
 "metadata": {
  "kernelspec": {
   "display_name": "Python 3",
   "language": "python",
   "name": "python3"
  },
  "language_info": {
   "codemirror_mode": {
    "name": "ipython",
    "version": 3
   },
   "file_extension": ".py",
   "mimetype": "text/x-python",
   "name": "python",
   "nbconvert_exporter": "python",
   "pygments_lexer": "ipython3",
   "version": "3.14.0"
  }
 },
 "nbformat": 4,
 "nbformat_minor": 5
}
